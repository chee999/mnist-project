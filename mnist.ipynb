{
  "nbformat": 4,
  "nbformat_minor": 0,
  "metadata": {
    "colab": {
      "name": "mnist.ipynb",
      "provenance": [],
      "collapsed_sections": [],
      "authorship_tag": "ABX9TyN6wRcaklC4KjDHZjeS4z7J",
      "include_colab_link": true
    },
    "kernelspec": {
      "name": "python3",
      "display_name": "Python 3"
    },
    "accelerator": "GPU"
  },
  "cells": [
    {
      "cell_type": "markdown",
      "metadata": {
        "id": "view-in-github",
        "colab_type": "text"
      },
      "source": [
        "<a href=\"https://colab.research.google.com/github/chee999/mnist-project/blob/master/mnist.ipynb\" target=\"_parent\"><img src=\"https://colab.research.google.com/assets/colab-badge.svg\" alt=\"Open In Colab\"/></a>"
      ]
    },
    {
      "cell_type": "code",
      "metadata": {
        "id": "51hdPm99hwT4",
        "colab_type": "code",
        "colab": {
          "base_uri": "https://localhost:8080/",
          "height": 122
        },
        "outputId": "bb55c184-b176-4dc3-de44-5ae3de627fe9"
      },
      "source": [
        "# Load in the mnist data set. Keras contains the mnist data set\n",
        "#!pip install tensorflow keras\n",
        "#!pip install mnist"
      ],
      "execution_count": null,
      "outputs": [
        {
          "output_type": "stream",
          "text": [
            "Collecting mnist\n",
            "  Downloading https://files.pythonhosted.org/packages/c6/c4/5db3bfe009f8d71f1d532bbadbd0ec203764bba3a469e4703a889db8e5e0/mnist-0.2.2-py2.py3-none-any.whl\n",
            "Requirement already satisfied: numpy in /usr/local/lib/python3.6/dist-packages (from mnist) (1.18.5)\n",
            "Installing collected packages: mnist\n",
            "Successfully installed mnist-0.2.2\n"
          ],
          "name": "stdout"
        }
      ]
    },
    {
      "cell_type": "code",
      "metadata": {
        "id": "Ms5zW0aQhUL1",
        "colab_type": "code",
        "colab": {}
      },
      "source": [
        "from google.colab import drive, auth\n",
        "auth.authenticate_user()\n",
        "from google.colab import drive\n",
        "from keras.models import Sequential #ANN Architecture\n",
        "from keras.layers import Dense      #layers in ANN\n",
        "from keras.utils import to_categorical\n",
        "\n",
        "import mnist\n",
        "import numpy as np\n",
        "import matplotlib.pyplot as plt"
      ],
      "execution_count": null,
      "outputs": []
    },
    {
      "cell_type": "code",
      "metadata": {
        "id": "zUN2vz5Pps6q",
        "colab_type": "code",
        "colab": {}
      },
      "source": [
        "# Load the data\n",
        "train_images = mnist.train_images()\n",
        "train_labels = mnist.train_labels()\n",
        "test_images = mnist.test_images() # training data images\n",
        "test_labels = mnist.test_labels() # training data labels"
      ],
      "execution_count": null,
      "outputs": []
    },
    {
      "cell_type": "code",
      "metadata": {
        "id": "zMWbHMSSqkP_",
        "colab_type": "code",
        "colab": {}
      },
      "source": [
        "# Normalize the images. Normalize the pixel values from [0-255] to [-0.5, 0.5] to make our\n",
        "# network easier to train.\n",
        " \n",
        "train_images = (train_images/255) - 0.5 # returns values 0 to 1\n",
        "test_images = (test_images/255) - 0.5\n",
        "\n",
        "#Flatten each 28x28 image into a 1x784 dimension array.\n",
        "train_images = train_images.reshape((-1,784))  # should get 60000 rows, each having 784 columns\n",
        "test_images = test_images.reshape((-1, 784))   # should get 10000 rows, each having 784 columns"
      ],
      "execution_count": null,
      "outputs": []
    },
    {
      "cell_type": "code",
      "metadata": {
        "id": "aIlvIYjttEGG",
        "colab_type": "code",
        "colab": {}
      },
      "source": [
        "# Build a model with 3 layers, 2 layers with 64 neurons and the relu function and 1 layer\n",
        "# with 10 neurons and softmax function\n",
        "model = Sequential()\n",
        "model.add( Dense(64, activation='relu', input_dim=784) )\n",
        "model.add( Dense(64, activation='relu') )\n",
        "model.add( Dense(10, activation='softmax') )\n"
      ],
      "execution_count": null,
      "outputs": []
    },
    {
      "cell_type": "code",
      "metadata": {
        "id": "mWEY5Vp5uBuL",
        "colab_type": "code",
        "colab": {}
      },
      "source": [
        "# Compile the model. The loss function measures how well model does on training data then tries to \n",
        "# improve it using the optimizer named 'adam'. An optimizer is one of the two arguments required for \n",
        "# compiling a Keras model. categorical_crossentropy allows us to use classes that are greater than 2\n",
        "model.compile(\n",
        "    optimizer='adam',\n",
        "    loss = 'categorical_crossentropy', metrics = ['accuracy']\n",
        ")\n",
        "\n",
        "# to_categorical(train_labels) expects [0, 0, 1, 0, 0, 0, 0, 0, 0, 0] or 10 dim. vector.\n",
        "# epochs is the number of iterations over the entire data set to train on.\n",
        "# batch_size is the number of samples per gradient update for training.\n",
        "#\n",
        "model.fit(\n",
        "    train_images,\n",
        "    to_categorical(train_labels),\n",
        "    epochs = 5,\n",
        "    batch_size=32\n",
        ")"
      ],
      "execution_count": null,
      "outputs": []
    },
    {
      "cell_type": "code",
      "metadata": {
        "id": "7125zyjFXmLQ",
        "colab_type": "code",
        "colab": {}
      },
      "source": [
        "# Evaluate models\n",
        "model.evaluate(\n",
        "    train_images,\n",
        "    to_categorical(train_labels)\n",
        ")\n"
      ],
      "execution_count": null,
      "outputs": []
    },
    {
      "cell_type": "code",
      "metadata": {
        "id": "e36KvgVRvRPE",
        "colab_type": "code",
        "colab": {}
      },
      "source": [
        "model.evaluate(\n",
        "    test_images,\n",
        "    to_categorical(test_labels)\n",
        ")"
      ],
      "execution_count": null,
      "outputs": []
    },
    {
      "cell_type": "code",
      "metadata": {
        "id": "6ZlInsXKvlzi",
        "colab_type": "code",
        "colab": {}
      },
      "source": [
        "# Make prediction on the first 5 test images\n",
        "predictions_test = model.predict(test_images[:5])\n",
        "print(np.argmax(predictions_test, axis=1))\n",
        "\n",
        "for i in range(0,5):\n",
        "  first_image = test_images[i]\n",
        "  first_image = np.array(first_image, dtype='float')\n",
        "  pixels = first_image.reshape((28,28))\n",
        "  plt.imshow(pixels, cmap='Accent')\n",
        "  plt.show()"
      ],
      "execution_count": null,
      "outputs": []
    },
    {
      "cell_type": "code",
      "metadata": {
        "id": "FMLfsb_fv8rx",
        "colab_type": "code",
        "colab": {
          "base_uri": "https://localhost:8080/",
          "height": 1000
        },
        "outputId": "d4862909-74c6-4f09-8b12-d62eeb3edc18"
      },
      "source": [
        "# Make a prediction on the first 5 train_images\n",
        "predictions_train = model.predict(train_images[:5])\n",
        "print(np.argmax(predictions_train, axis=1))\n",
        "\n",
        "for i in range(0,5):\n",
        "  first_image = train_images[i]\n",
        "  first_image = np.array(first_image, dtype='float')\n",
        "  pixels = first_image.reshape((28,28))\n",
        "  plt.imshow(pixels, cmap='Blues')\n",
        "  plt.show()\n",
        "  "
      ],
      "execution_count": null,
      "outputs": [
        {
          "output_type": "stream",
          "text": [
            "[5 0 4 1 9]\n"
          ],
          "name": "stdout"
        },
        {
          "output_type": "display_data",
          "data": {
            "image/png": "[encoded data removed]",
            "text/plain": [
              "<Figure size 432x288 with 1 Axes>"
            ]
          },
          "metadata": {
            "tags": [],
            "needs_background": "light"
          }
        },
        {
          "output_type": "display_data",
          "data": {
            "image/png": "[encoded data removed]",
            "text/plain": [
              "<Figure size 432x288 with 1 Axes>"
            ]
          },
          "metadata": {
            "tags": [],
            "needs_background": "light"
          }
        },
        {
          "output_type": "display_data",
          "data": {
            "image/png": "[encoded data removed]",
            "text/plain": [
              "<Figure size 432x288 with 1 Axes>"
            ]
          },
          "metadata": {
            "tags": [],
            "needs_background": "light"
          }
        },
        {
          "output_type": "display_data",
          "data": {
            "image/png": "[encoded data removed]",
            "text/plain": [
              "<Figure size 432x288 with 1 Axes>"
            ]
          },
          "metadata": {
            "tags": [],
            "needs_background": "light"
          }
        },
        {
          "output_type": "display_data",
          "data": {
            "image/png": "[encoded data removed]",
            "text/plain": [
              "<Figure size 432x288 with 1 Axes>"
            ]
          },
          "metadata": {
            "tags": [],
            "needs_background": "light"
          }
        }
      ]
    }
  ]
}